{
 "cells": [
  {
   "cell_type": "markdown",
   "metadata": {},
   "source": [
    "### Program to make machine learn to differentiate between reviews weather its negative or positive."
   ]
  },
  {
   "cell_type": "code",
   "execution_count": 1,
   "metadata": {},
   "outputs": [],
   "source": [
    "class Sentiment:\n",
    "    Negative = \"Negative\"\n",
    "    Nuetral = \"Nuetral\"\n",
    "    Positive = \"Positive\"\n",
    "\n",
    "class Review:\n",
    "    def __init__(self, text, score):\n",
    "        self.text = text\n",
    "        self.score = score\n",
    "        self.sentiment = self.get_sentiment() \n",
    "        \n",
    "        \n",
    "    def get_sentiment(self):\n",
    "        if self.score <= 2:\n",
    "            return Sentiment.Negative\n",
    "        elif self.score == 3:\n",
    "            return Sentiment.Nuetral\n",
    "        else: # If 4 or 5 score \n",
    "            return Sentiment.Positive\n"
   ]
  },
  {
   "cell_type": "markdown",
   "metadata": {},
   "source": [
    "#### Extracting data from a json file and making a list for easy recall specifically Score & Review"
   ]
  },
  {
   "cell_type": "code",
   "execution_count": 2,
   "metadata": {},
   "outputs": [
    {
     "data": {
      "text/plain": [
       "[<__main__.Review at 0x183067eaa48>,\n",
       " <__main__.Review at 0x1830a3b3188>,\n",
       " <__main__.Review at 0x183097a8848>,\n",
       " <__main__.Review at 0x183078a6f08>,\n",
       " <__main__.Review at 0x1830a4d4708>]"
      ]
     },
     "execution_count": 2,
     "metadata": {},
     "output_type": "execute_result"
    }
   ],
   "source": [
    "import glob\n",
    "import pandas as pd\n",
    "import matplotlib.pyplot as plt\n",
    "import numpy as np\n",
    "import os\n",
    "from os import listdir\n",
    "import json \n",
    "\n",
    "\n",
    "file_name =  './Amazon Review ML/Raw data/Books_reviews.json'\n",
    "\n",
    "reviews = []\n",
    "with open(file_name) as f:\n",
    "    for line in f:\n",
    "        review = json.loads(line)\n",
    "        reviews.append(Review(review[\"reviewText\"],review[\"overall\"]))\n",
    "        \n",
    "reviews[0:5]\n",
    "\n"
   ]
  },
  {
   "cell_type": "markdown",
   "metadata": {},
   "source": [
    "#### Prep data into train and test split"
   ]
  },
  {
   "cell_type": "code",
   "execution_count": 3,
   "metadata": {},
   "outputs": [
    {
     "data": {
      "text/plain": [
       "330"
      ]
     },
     "execution_count": 3,
     "metadata": {},
     "output_type": "execute_result"
    }
   ],
   "source": [
    "from sklearn.model_selection import train_test_split\n",
    "\n",
    "test, training = train_test_split(reviews, test_size = 0.33, random_state = 42)\n",
    "len(training)  # To check length of test and training comments"
   ]
  },
  {
   "cell_type": "code",
   "execution_count": 4,
   "metadata": {},
   "outputs": [
    {
     "name": "stdout",
     "output_type": "stream",
     "text": [
      "Positive\n",
      "Every new Myke Cole book is better than the last, and this is no exception. If you haven't read the Shadow Ops series before start with Control Point, but go ahead and order Fortress Frontier and Breach Zone as well - you're going to want them.\n"
     ]
    }
   ],
   "source": [
    "print(training[0].sentiment)\n",
    "print(training[0].text)"
   ]
  },
  {
   "cell_type": "code",
   "execution_count": 5,
   "metadata": {},
   "outputs": [],
   "source": [
    "train_x = [x.text for x in training]\n",
    "train_y = [x.sentiment for x in training]\n",
    "\n",
    "test_x = [x.text for x in test]\n",
    "test_y = [x.sentiment for x in test]\n",
    "\n"
   ]
  },
  {
   "cell_type": "markdown",
   "metadata": {},
   "source": [
    "#### Bag of words Vectorization"
   ]
  },
  {
   "cell_type": "code",
   "execution_count": 7,
   "metadata": {},
   "outputs": [
    {
     "name": "stdout",
     "output_type": "stream",
     "text": [
      "Every new Myke Cole book is better than the last, and this is no exception. If you haven't read the Shadow Ops series before start with Control Point, but go ahead and order Fortress Frontier and Breach Zone as well - you're going to want them.\n",
      "  (0, 1538)\t1\n",
      "  (0, 2965)\t1\n",
      "  (0, 2905)\t1\n",
      "  (0, 858)\t1\n",
      "  (0, 562)\t1\n",
      "  (0, 2354)\t2\n",
      "  (0, 503)\t1\n",
      "  (0, 4424)\t1\n",
      "  (0, 4429)\t2\n",
      "  (0, 2499)\t1\n",
      "  (0, 223)\t3\n",
      "  (0, 4460)\t1\n",
      "  (0, 2982)\t1\n",
      "  (0, 1561)\t1\n",
      "  (0, 2192)\t1\n",
      "  (0, 4959)\t2\n",
      "  (0, 2045)\t1\n",
      "  (0, 3530)\t1\n",
      "  (0, 3927)\t1\n",
      "  (0, 3088)\t1\n",
      "  (0, 3898)\t1\n",
      "  (0, 465)\t1\n",
      "  (0, 4171)\t1\n",
      "  (0, 4890)\t1\n",
      "  (0, 978)\t1\n",
      "  (0, 3307)\t1\n",
      "  (0, 656)\t1\n",
      "  (0, 1910)\t1\n",
      "  (0, 169)\t1\n",
      "  (0, 3091)\t1\n",
      "  (0, 1790)\t1\n",
      "  (0, 1821)\t1\n",
      "  (0, 593)\t1\n",
      "  (0, 4973)\t1\n",
      "  (0, 312)\t1\n",
      "  (0, 4824)\t1\n",
      "  (0, 3523)\t1\n",
      "  (0, 1916)\t1\n",
      "  (0, 4507)\t1\n",
      "  (0, 4775)\t1\n",
      "  (0, 4434)\t1\n",
      "['000', '01', '035', '10', '100', '10yo', '140', '15', '175', '1900', '1950s', '1975', '19th', '1st', '1this', '20', '2008', '2009', '2014', '2016', '21st', '228', '23', '24', '28', '2d', '2nd', '30', '34', '39', '3rd', '3x', '451', '4th', '50', '5th', '60', '61808', '69', '70', '70s', '82', '8211', '8212', '8216', '8217', '8220', '8221', '8230', '978', '99', '_among', '_sailing', '_what', 'aacn', 'aback', 'abandoned', 'abbys', 'abilities', 'ability', 'abject', 'able', 'abound', 'about', 'above', 'abraham', 'abrupt', 'abruptly', 'absolute', 'absolutely', 'absorbed', 'abundance', 'abuse', 'abused', 'abusive', 'academics', 'accept', 'acceptance', 'accepting', 'accessibility', 'accident', 'accidentally', 'accidents', 'accomplish', 'accomplished', 'account', 'accounts', 'accumulates', 'accustomed', 'ace', 'achaemenids', 'acheron', 'achievable', 'achieve', 'achievements', 'across', 'act', 'acting', 'action', 'actions', 'active', 'actor', 'actress', 'acts', 'actually', 'ad', 'adapt', 'add', 'added', 'addicted', 'addiction', 'addictive', 'adding', 'addison', 'addition', 'additionally', 'address', 'addressing', 'adds', 'addy', 'adequately', 'admire', 'admired', 'admission', 'admit', 'adolescent', 'adorable', 'adore', 'adored', 'adult', 'adulthood', 'adults', 'advance', 'advances', 'advantage', 'advent', 'adventure', 'adventures', 'adventurous', 'adverse', 'advice', 'advisory', 'affair', 'affairs', 'affected', 'affecting', 'affirm', 'affordable', 'afraid', 'after', 'aftereffects', 'afterlife', 'afternoon', 'again', 'against', 'age', 'aged', 'agenda', 'agendas', 'ages', 'aggravated', 'aggravation', 'aggressive', 'aging', 'ago', 'agree', 'agreeing', 'agreement', 'agrees', 'ahead', 'ai', 'aid', 'aidan', 'aiden', 'aids', 'aiming', 'air', 'alabama', 'alaskan', 'alex', 'alexander', 'alike', 'aliyah', 'all', 'allegedly', 'allison', 'allow', 'alluring', 'almost', 'alone', 'along', 'aloof', 'alpha', 'already', 'alright', 'also', 'altered', 'although', 'always', 'am', 'amateur', 'amaxing', 'amazing', 'amazingly', 'amazon', 'ambassador', 'ambition', 'ambushed', 'amelia', 'america', 'american', 'among', 'amount', 'amply', 'an', 'ana', 'analysis', 'analytics', 'analyzes', 'anatomy', 'ancestors', 'anchor', 'ancient', 'and', 'and1', 'anderson', 'andreas', 'andrei', 'andrew', 'andwhat', 'anecdotes', 'angel', 'angela', 'anger', 'angry', 'angst', 'angus', 'animal', 'anita', 'ann', 'anna', 'anne', 'annie', 'annoy', 'annoyed', 'annoying', 'anomaly', 'another', 'answer', 'answered', 'answers', 'antagonist', 'anticipate', 'anticipating', 'antics', 'antoinette', 'any', 'anybody', 'anyone', 'anything', 'anyway', 'apart', 'apartment', 'apollo', 'apologetics', 'apostle', 'apostles', 'apparently', 'appeal', 'appealing', 'appearances', 'appears', 'application', 'applications', 'applied', 'applies', 'apply', 'appreciate', 'appreciated', 'appreciates', 'appreciation', 'approach', 'appropriate', 'aproach', 'arc', 'archenemy', 'archer', 'architects', 'arden', 'ardens', 'are', 'area', 'areas', 'aren', 'argue', 'argued', 'aries', 'armageddon', 'armed', 'arms', 'army', 'around', 'arrangement', 'arrogant', 'arron', 'art', 'arthritis', 'article', 'articles', 'articulate', 'artist', 'artistic', 'as', 'ashamed', 'ashley', 'asia', 'asian', 'aside', 'ask', 'asked', 'asking', 'asks', 'aspect', 'aspects', 'aspen', 'aspirations', 'assigned', 'assistance', 'assistant', 'associate', 'associates', 'assume', 'assumed', 'astonishing', 'astounding', 'astronauts', 'asymmetric', 'at', 'athenians', 'athens', 'athletic', 'athletics', 'atmosphere', 'attack', 'attacking', 'attacks', 'attempt', 'attempts', 'attended', 'attending', 'attention', 'attic', 'attica', 'attitude', 'attract', 'attraction', 'attributed', 'attuned', 'audible', 'audio', 'august', 'aunt', 'aunts', 'auror', 'austin', 'authentic', 'authentically', 'authenticity', 'author', 'authors', 'automated', 'automatically', 'availabale', 'available', 'avalon', 'avasthi', 'average', 'avery', 'avid', 'avoid', 'await', 'awake', 'awards', 'away', 'awe', 'awesome', 'awful', 'awhile', 'aya', 'azod', 'babies', 'baby', 'babylon', 'back', 'backdrops', 'backed', 'background', 'backs', 'backward', 'backwards', 'bad', 'baddie', 'badly', 'bags', 'bait', 'balance', 'ball', 'ballpark', 'balls', 'ballsy', 'balogh', 'bam', 'banality', 'band', 'bang', 'bangkok', 'bank', 'banks', 'baptism', 'barbara', 'barely', 'bargain', 'barns', 'barrels', 'barriers', 'base', 'based', 'basement', 'bash', 'bashed', 'basic', 'basically', 'basics', 'basis', 'bastard', 'bastards', 'bastian', 'bastians', 'bastion', 'bat', 'bathroom', 'battle', 'battling', 'bdsm', 'be', 'beach', 'bean', 'bear', 'bearing', 'beast', 'beat', 'beaten', 'beatings', 'beautiful', 'beautifully', 'became', 'because', 'becca', 'becky', 'become', 'becomes', 'becoming', 'bed', 'bedroom', 'been', 'before', 'began', 'begin', 'beginning', 'beginnings', 'begins', 'behind', 'being', 'belief', 'beliefs', 'believable', 'believe', 'believed', 'believes', 'believeto', 'believing', 'bell', 'belly', 'belongs', 'beloved', 'ben', 'benedictine', 'benefit', 'benefits', 'benghazi', 'bennet', 'berg', 'bernstein', 'beset', 'besides', 'best', 'bet', 'beth', 'betrayal', 'betrayals', 'betrayed', 'betsy', 'bette', 'better', 'between', 'beverlys', 'beyond', 'bff', 'biased', 'bible', 'bien', 'big', 'bigger', 'biggest', 'bill', 'binding', 'birds', 'birth', 'birthday', 'bit', 'biting', 'bits', 'black', 'blah', 'blaine', 'blame', 'bland', 'blarg', 'bleak', 'bleh', 'blend', 'blending', 'blessings', 'blew', 'blind', 'bliss', 'blithely', 'blog', 'blogger', 'blogging', 'blonde', 'blood', 'bloodshot', 'blooms', 'blowed', 'blown', 'blue', 'blunders', 'blurb', 'boarding', 'bodies', 'body', 'boggling', 'bold', 'bomb', 'bombarded', 'bomber', 'bombs', 'bond', 'bondage', 'bones', 'bonus', 'book', 'bookclub', 'booker', 'bookif', 'bookkeeping', 'books', 'bookstore', 'boost', 'bore', 'bored', 'boring', 'born', 'boss', 'both', 'bother', 'bothered', 'bottom', 'bought', 'bound', 'bounds', 'box', 'boy', 'boyd', 'boyett', 'boyfriend', 'boys', 'brain', 'brandon', 'brave', 'braydon', 'brazen', 'breach', 'bread', 'break', 'breaking', 'breakup', 'breathless', 'breathtaking', 'brian', 'bribes', 'brick', 'bride', 'brides', 'bridges', 'bridget', 'brie', 'bright', 'brighten', 'brilliant', 'brilliantly', 'bring', 'bringing', 'brings', 'brissenden', 'britain', 'britannica', 'british', 'broad', 'broader', 'broke', 'broken', 'bronwyn', 'broque', 'brother', 'brothers', 'brought', 'brown', 'browyn', 'bruised', 'brush', 'brutal', 'bryant', 'brynjolfsson', 'btw', 'buddies', 'budding', 'buen', 'buena', 'build', 'builder', 'building', 'builds', 'built', 'bullied', 'bullies', 'bumps', 'burden', 'bureau', 'burke', 'burned', 'burning', 'business', 'bustling', 'busy', 'but', 'butter', 'button', 'buy', 'buying', 'by', 'cabinet', 'caesar', 'cake', 'calculation', 'caldwell', 'call', 'called', 'calls', 'calm', 'camdus', 'came', 'camera', 'campaign', 'can', 'candid', 'cannot', 'cant', 'capable', 'capital', 'captain', 'captivated', 'captivating', 'car', 'card', 'cards', 'care', 'career', 'caring', 'carla', 'carmouche', 'carnegie', 'carolyn', 'carr', 'carrie', 'carriers', 'carries', 'carry', 'cars', 'carved', 'case', 'casey', 'casino', 'cassidy', 'cassie', 'cast', 'caste', 'casual', 'cat', 'cataloguing', 'catch', 'catches', 'category', 'caught', 'cause', 'caused', 'causes', 'causing', 'caution', 'cautions', 'cautious', 'cave', 'ccrn', 'cd', 'celebrate', 'cellphone', 'center', 'centers', 'centuries', 'century', 'certain', 'certainly', 'certified', 'chair', 'challenging', 'chance', 'change', 'changed', 'changes', 'changing', 'chaos', 'chapter', 'chapters', 'charachters', 'character', 'characterize', 'characters', 'charge', 'charges', 'charli', 'charm', 'charmaine', 'charmed', 'charming', 'chase', 'chased', 'chasing', 'cheap', 'cheating', 'check', 'cheerful', 'cheeriness', 'cheese', 'cheeta', 'chemical', 'chemistry', 'chesterton', 'chew', 'chewbacca', 'chewed', 'chicago', 'chick', 'child', 'childhood', 'childhoods', 'childish', 'children', 'chimps', 'china', 'chinese', 'chips', 'choice', 'choices', 'choose', 'chooses', 'chose', 'chosen', 'chris', 'christ', 'christian', 'christianity', 'christians', 'christmas', 'christopher', 'church', 'churches', 'cia', 'cinderella', 'cindy', 'circle', 'circles', 'circumstances', 'cities', 'citing', 'city', 'civil', 'civilized', 'claire', 'clara', 'clare', 'clarence', 'class', 'classes', 'classic', 'classical', 'classics', 'claws', 'clay', 'cleansed', 'clear', 'cleared', 'clearly', 'clever', 'clich', 'click', 'cliff', 'cliffhanger', 'climactic', 'climax', 'clines', 'clinicals', 'clinton', 'cloistered', 'clone', 'clones', 'cloning', 'close', 'closed', 'closer', 'closure', 'cloud', 'cloudera', 'cloy', 'club', 'clubs', 'clue', 'clueless', 'cluelessness', 'clues', 'coach', 'coachman', 'coastline', 'cockroaches', 'coes', 'coexist', 'cohesive', 'cold', 'cole', 'collaborations', 'collapse', 'collect', 'collection', 'collector', 'college', 'color', 'colorado', 'combination', 'combine', 'combined', 'combo', 'come', 'comes', 'comforting', 'coming', 'command', 'commands', 'commentary', 'comments', 'commerce', 'commit', 'commitment', 'committee', 'commodity', 'communicate', 'communication', 'community', 'companies', 'companion', 'companionship', 'company', 'compare', 'comparison', 'compelling', 'competent', 'competitive', 'complained', 'complaint', 'complaints', 'complement', 'complete', 'completely', 'completion', 'complex', 'complexity', 'complicated', 'complicates', 'compliment', 'complimentary', 'comport', 'comprehend', 'comprehensive', 'computational', 'computer', 'comrade', 'conceived', 'concept', 'concepts', 'conceptualize', 'concern', 'concerned', 'conclude', 'conclusion', 'conclusions', 'concrete', 'condescending', 'condition', 'conduct', 'conducted', 'confess', 'confident', 'confirmation', 'confirmed', 'conflict', 'conflicting', 'conflicts', 'confrontations', 'confused', 'conn', 'connected', 'connection', 'connections', 'conner', 'consciously', 'consequences', 'conservative', 'consider', 'considered', 'considering', 'considers', 'consistent', 'consistently', 'conspires', 'constantly', 'constructed', 'construction', 'consumed', 'consumer', 'consumes', 'consummate', 'contact', 'contain', 'contained', 'containing', 'contemporaneous', 'contemporary', 'content', 'contented', 'contents', 'continually', 'continuation', 'continue', 'continued', 'continues', 'continuing', 'contractors', 'contrary', 'contribute', 'control', 'controlling', 'controversial', 'convenience', 'conversations', 'converse', 'convince', 'convinced', 'convincing', 'convoluted', 'cook', 'cookie', 'cooking', 'cool', 'cooperation', 'cop', 'copied', 'cops', 'copy', 'core', 'cornwell', 'corporate', 'corporation', 'correct', 'correspondence', 'cost', 'couch', 'could', 'couldn', 'couldnt', 'count', 'counting', 'country', 'couple', 'course', 'courtesy', 'cousins', 'cover', 'covers', 'covington', 'cowboy', 'cowboys', 'craig', 'crashes', 'crave', 'craving', 'craziest', 'crazy', 'create', 'created', 'creates', 'creating', 'creation', 'creative', 'creator', 'creatures', 'credible', 'credit', 'creedor', 'creep', 'creeps', 'creepy', 'crew', 'cried', 'crime', 'crimes', 'cringe', 'crisis', 'crisp', 'crochet', 'crosby', 'cross', 'crossed', 'crosses', 'cruel', 'crumbles', 'crusade', 'cry', 'cryby', 'cully', 'culminated', 'culprit', 'cultural', 'culture', 'cultured', 'cunningham', 'cures', 'curiosity', 'current', 'currently', 'curve', 'customs', 'cut', 'cute', 'cv', 'cwa', 'd7100', 'dad', 'daily', 'dallas', 'dalliances', 'dame', 'dana', 'dancing', 'danger', 'dangerous', 'danielle', 'dare', 'darfuse', 'dark', 'darker', 'darkest', 'darkfuse', 'darkness', 'darn', 'darwinian', 'darwinism', 'darwinists', 'data', 'data5', 'data6', 'data7', 'date', 'dated', 'dates', 'dating', 'daughter', 'daughters', 'david', 'davis', 'dawn', 'day', 'days', 'dazed', 'de', 'dead', 'deadline', 'deadly', 'deal', 'dealing', 'deals', 'dealt', 'dearly', 'death', 'deaths', 'deaver', 'debate', 'debts', 'dec', 'deceit', 'decent', 'deception', 'decide', 'decided', 'decidedly', 'decimate', 'decision', 'declan', 'deconstructed', 'dedicated', 'deemed', 'deep', 'deepened', 'deeper', 'deeply', 'deet', 'defeat', 'defections', 'defend', 'defenseless', 'defiant', 'define', 'defined', 'definite', 'definitely', 'definition', 'definitley', 'defintion', 'deft', 'dejected', 'delicate', 'delicious', 'deliciously', 'delight', 'delightful', 'deliver', 'delivered', 'delivers', 'delivery', 'demand', 'demanding', 'demi', 'demise', 'demolished', 'demonizing', 'denise', 'dennis', 'deny', 'departed', 'department', 'departure', 'depends', 'depression', 'depriving', 'dept', 'depth', 'depths', 'descendants', 'descended', 'describe', 'described', 'describes', 'describing', 'description', 'descriptions', 'descriptive', 'deserted', 'design', 'designed', 'designer', 'designers', 'desires', 'desolate', 'despair', 'desperate', 'desperately', 'despite', 'despondent', 'dessert', 'destroy', 'destroyed', 'destruction', 'det', 'detail', 'detailed', 'detailing', 'details', 'detective', 'determination', 'determined', 'determines', 'detonation', 'devastating', 'develop', 'developed', 'developement', 'developer', 'developing', 'development', 'device', 'devoted', 'dewey', 'dexter', 'dialogue', 'did', 'didn', 'die', 'died', 'dies', 'diet', 'difference', 'differences', 'different', 'differs', 'difficult', 'difficulty', 'digest', 'digging', 'digital', 'digitization', 'digitized', 'dilemmas', 'diligently', 'dimension', 'diminished', 'dinner', 'dip', 'direction', 'directions', 'directly', 'dirty', 'disabilities', 'disappearance', 'disappoint', 'disappointed', 'disappointing', 'disarmament', 'disassembled', 'disaster', 'disclose', 'disclosing', 'discover', 'discovered', 'discovers', 'discuss', 'discusses', 'discussion', 'discussions', 'disease', 'disjointed', 'dislike', 'disliked', 'dispensed', 'dispersion', 'displaying', 'dispute', 'disputes', 'dissecting', 'distance', 'distinction', 'distinguish', 'distracted', 'distracting', 'distribution', 'disturbing', 'dive', 'diverge', 'divergent', 'divertido', 'divine', 'dizzy', 'dna', 'do', 'doc', 'doctor', 'doctors', 'dodd', 'does', 'doesn', 'dog', 'dogs', 'doing', 'doll', 'dollar', 'dom', 'domineering', 'doms', 'don', 'donald', 'done', 'doom', 'dorms', 'dose', 'double', 'doubt', 'douchebag', 'dove', 'down', 'downhill', 'download', 'downs', 'downside', 'dozen', 'dr', 'drag', 'dragged', 'dragon', 'dragons', 'drama', 'dramatic', 'drawn', 'draws', 'dread', 'dream', 'dreamlander', 'dreams', 'dressed', 'drew', 'drift', 'drifted', 'drink', 'drop', 'dross', 'drove', 'drugs', 'drunk', 'dry', 'drying', 'dsm', 'duchesses', 'dude', 'due', 'dues', 'dull', 'dumb', 'dumbest', 'dumont', 'duology', 'during', 'duties', 'dyeing', 'dying', 'dylan', 'dynamic', 'dysevolution', 'dysfunction', 'dysfunctional', 'dystopian', 'each', 'eacute', 'eager', 'ear', 'earlier', 'early', 'earth', 'earthly', 'easier', 'easily', 'eastern', 'easy', 'eat', 'eaten', 'eating', 'echoed', 'economic', 'economically', 'economics', 'economies', 'economy', 'eden', 'edge', 'editing', 'editor', 'educated', 'educational', 'effect', 'effective', 'effectively', 'effort', 'eg', 'egypt', 'egyptian', 'egyptians', 'eight', 'eighteen', 'eighths', 'either', 'elegant', 'element', 'elements', 'elevate', 'elina', 'elizabeth', 'elizabethan', 'ella', 'elle', 'ellie', 'eloisa', 'else', 'elsewhere', 'elusive', 'embarrass', 'embarrassed', 'ember', 'embracing', 'emeline', 'emily', 'emma', 'emmy', 'emotion', 'emotional', 'emotionally', 'emotions', 'emphasis', 'emphasize', 'emphasized', 'empire', 'employee', 'empowering', 'enable', 'enabled', 'enamored', 'encontered', 'encounter', 'encounters', 'encyclopaedia', 'end', 'endeavors', 'ended', 'ending', 'endings', 'ends', 'enduring', 'enemies', 'enemy', 'energy', 'engage', 'engaged', 'engagements', 'engaging', 'engineering', 'engineers', 'england', 'english', 'engrossed', 'engrossing', 'enhance', 'enhancing', 'enjoy', 'enjoyable', 'enjoyed', 'enjoying', 'enjoyment', 'enjoys', 'enlightening', 'enormous', 'enough', 'enrolling', 'ensuing', 'entertain', 'entertained', 'entertaining', 'entertainingly', 'entertainment', 'entire', 'entries', 'entry', 'environment', 'eons', 'epic', 'epilogue', 'equally', 'er', 'era', 'erik', 'erin', 'erosa', 'erotic', 'erotica', 'errors', 'escapades', 'escape', 'escargot', 'escritura', 'especially', 'espionage', 'essential', 'essentially', 'established', 'establishment', 'estate', 'esteem', 'etc', 'ethan', 'ethical', 'eulogy', 'europe', 'evacuated', 'evaluate', 'evan', 'evans', 'eve', 'evelyn', 'even', 'evening', 'evenly', 'event', 'events', 'eventually', 'ever', 'every', 'everybody', 'everyday', 'everyone', 'everything', 'evidence', 'evil', 'evokes', 'evoking', 'evolve', 'evolves', 'ex', 'exact', 'exactly', 'exaggerated', 'exaggeration', 'examines', 'examining', 'example', 'examples', 'excellent', 'excels', 'except', 'exception', 'exceptional', 'exceptionally', 'exchange', 'exchanged', 'excite', 'excited', 'excitement', 'exciting', 'excruciating', 'excursions', 'executed', 'exercise', 'exist', 'existed', 'exists', 'expect', 'expectations', 'expected', 'expecting', 'expedition', 'expelled', 'expense', 'experience', 'experienced', 'experiences', 'expertly', 'explain', 'explained', 'explaining', 'explains', 'explanation', 'explanations', 'exploitation', 'exploration', 'explores', 'explosive', 'exponential', 'exponentially', 'expose', 'exposed', 'expresses', 'expressing', 'extended', 'extension', 'extent', 'external', 'extra', 'extraordinaire', 'extremely', 'eye', 'eyes', 'fabled', 'fabulous', 'face', 'facebook', 'faced', 'faces', 'facets', 'fact', 'factors', 'facts', 'factual', 'fading', 'faerie', 'fahrenheit', 'failing', 'failings', 'fails', 'fair', 'fairly', 'fairytale', 'faith', 'faithful', 'fall', 'fallen', 'falling', 'falls', 'faltering', 'famed', 'familiar', 'family', 'famous', 'fan', 'fanatical', 'fancy', 'fanny', 'fans', 'fantasies', 'fantastic', 'fantastically', 'fantasy', 'far', 'farm', 'farris', 'fascinating', 'fast', 'fatal', 'fate', 'father', 'fathered', 'fathom', 'faulkner', 'fault', 'favorite', 'favorites', 'fb', 'fbi', 'fear', 'feared', 'feather', 'feathers', 'feats', 'feature', 'featuring', 'feed', 'feedback', 'feel', 'feeling', 'feelings', 'feels', 'feet', 'feisty', 'felicia', 'felicity', 'felix', 'fell', 'felt', 'female', 'feminist', 'ferro', 'feuds', 'few', 'fi', 'fiction', 'fictitious', 'field', 'fielding', 'fiercely', 'fifty', 'fight', 'fighter', 'fighting', 'fights', 'figure', 'figured', 'figuring', 'file', 'filled', 'final', 'finally', 'find', 'finding', 'finds', 'fine', 'finest', 'fingers', 'finish', 'finished', 'finishing', 'fiona', 'fire', 'firearms', 'firecracker', 'fired', 'firm', 'firms8', 'first', 'fit', 'five', 'fix', 'flamboyance', 'flat', 'flavor', 'flavors', 'flaw', 'flawed', 'flawless', 'fleas', 'fledge', 'flees', 'flick', 'flies', 'fling', 'flip', 'flipped', 'floor', 'flop', 'flow', 'fluff', 'fly', 'focus', 'focused', 'focuses', 'focusing', 'focussed', 'folds', 'folklore', 'follow', 'followed', 'following', 'follows', 'food', 'foods', 'football', 'for', 'force', 'forced', 'forceful', 'forces', 'ford', 'fore', 'foreboding', 'foreign', 'forget', 'forgets', 'forgive', 'forgiveness', 'forgotten', 'form', 'formats', 'formed', 'former', 'formerly', 'forming', 'formulaic', 'forrest', 'forth', 'fortitude', 'fortress', 'fortune', 'forward', 'fought', 'found', 'four', 'fox', 'foyt', 'frame', 'framed', 'france', 'frances', 'francis', 'francisco', 'frank', 'frankly', 'frantic', 'franz', 'freaking', 'free', 'freedom', 'freer', 'frequencies', 'frequent', 'friend', 'friendly', 'friends', 'friendship', 'friendships', 'from', 'front', 'frontier', 'frontiers', 'frustrated', 'frustrating', 'frustration', 'ftc', 'fulfilled', 'full', 'fully', 'fun', 'functions', 'fundamentally', 'funded', 'funk', 'funny', 'fur', 'furnishing', 'further', 'futility', 'future', 'gab', 'gail', 'gains', 'gallowaythis', 'gals', 'gamble', 'gambling', 'game', 'games', 'gang', 'gangs', 'gap', 'gardner', 'garrett', 'garwood', 'gates', 'gather', 'gave', 'gd', 'gdp', 'gem', 'gender', 'genders', 'general', 'generation', 'generations', 'generously', 'genetic', 'geneticist', 'genre', 'genres', 'gentle', 'gently', 'genuine', 'genuinely', 'geography', 'geometric', 'geopolitical', 'german', 'germany', 'gertrude', 'get', 'gets', 'getting', 'gf', 'ghost', 'ghostly', 'ghosts', 'gift', 'gifted', 'gillian', 'gingerly', 'girl', 'girlfriend', 'girls', 'give', 'given', 'giver', 'gives', 'giving', 'glad', 'gladwell', 'glass', 'glimpse', 'global', 'glorified', 'glossed', 'glowing', 'gluten', 'go', 'goals', 'god', 'godparents', 'gods', 'goes', 'going', 'gold', 'golden', 'goldens', 'golf', 'gone', 'good', 'goodlove', 'goodness', 'goodreads', 'goody', 'goofy', 'google', 'goosebumps', 'gordon', 'gorillas', 'gossiping', 'got', 'gotta', 'gotten', 'government', 'governments', 'grab', 'grabbed', 'grace', 'gradually', 'grammatical', 'granddaughter', 'granddaughters', 'grandma', 'grandmother', 'grant', 'graphic', 'grateful', 'grates', 'grayson', 'great', 'great_', 'greater', 'greatest', 'greatly', 'greats', 'greaves', 'greco', 'greek', 'greeks', 'green', 'grew', 'griffin', 'grillons', 'grip', 'gripped', 'gripping', 'grips', 'gritty', 'ground', 'group', 'groups', 'grover', 'grow', 'growing', 'grown', 'growth', 'guard', 'guardian', 'guess', 'guessing', 'guest', 'guidance', 'guide', 'guides', 'guilt', 'guitar', 'gurgevich', 'guy', 'guys', 'habit', 'habits', 'hackers', 'had', 'hadn', 'hadoop', 'hair', 'half', 'hall', 'hallmarks', 'halloween', 'hand', 'handedly', 'handle', 'handled', 'handling', 'hands', 'handwriting', 'handy', 'hang', 'hanging', 'happen', 'happened', 'happening', 'happenings', 'happens', 'happier', 'happily', 'happiness', 'happy', 'hara', 'harbor', 'harboring', 'hard', 'hardened', 'hardgrave', 'harlow', 'harmed', 'harper', 'harriet', 'harry', 'harsh', 'hart', 'harvard', 'has', 'hasn', 'hate', 'hated', 'hatred', 'hats', 'hauntings', 'haunts', 'have', 'haven', 'havent', 'having', 'hawking', 'hawkish', 'hazel', 'hazing', 'he', 'heaberlin', 'head', 'headaches', 'heads', 'healed', 'health', 'healthcare', 'heaping', 'hear', 'heard', 'hearing', 'heart', 'heart_stopping', 'heartbreaking', 'hearted', 'heartedly', 'heartfelt', 'heartland', 'heartstrings', 'heartwarming', 'heat', 'heated', 'heaven', 'heavens', 'heavy', 'heck', 'heeding', 'heels', 'hefty', 'held', 'helen', 'hell', 'hell10', 'help', 'helped', 'helper', 'helpful', 'helping', 'helps', 'hemings', 'hence', 'henry', 'her', 'here', 'herione', 'hero', 'herodotus', 'heroes', 'heroic', 'heroine', 'herself', 'hidden', 'hiding', 'higgins', 'high', 'highlands', 'highly', 'hiking', 'hillary', 'him', 'himself', 'hinds', 'hines', 'hint', 'hints', 'hip', 'hippie', 'his', 'historians', 'historical', 'histories', 'history', 'hit', 'hitler', 'hits', 'holbrook', 'hold', 'holding', 'holds', 'hole', 'holiday', 'holiness', 'holistic', 'hollywood', 'home', 'homeland', 'homemade', 'homeroom', 'homes', 'honest', 'honestly', 'honorable', 'hook', 'hooked', 'hope', 'hoped', 'hopefully', 'hopes', 'hoping', 'horrible', 'horror', 'hospital', 'hot', 'hotel', 'hour', 'hours', 'house', 'houses', 'housing', 'how', 'however', 'huge', 'human', 'humans', 'humor', 'humorous', 'humour', 'hunger', 'hunted', 'hunter', 'hunters', 'hurley', 'hurried', 'hurt', 'husband', 'hyena', 'hypnosis', 'iacute', 'iad', 'iain', 'ian', 'ibs', 'icing', 'idea', 'ideas', 'identical', 'ideologically', 'idiots', 'idyllic', 'if', 'ifly', 'ignorant', 'illegally', 'illness', 'illustrates', 'illustrations', 'ilse', 'im', 'image', 'imagination', 'imaginative', 'imagine', 'imagined', 'immediate', 'immediately', 'immensely', 'immersing', 'impact', 'impacted', 'impelled', 'imperceptible', 'importance', 'important', 'importantly', 'impossible', 'impressed', 'impression', 'impressively', 'improves', 'improving', 'in', 'inability', 'inch', 'inches', 'incident', 'incidentally', 'inclement', 'include', 'included', 'includes', 'including', 'incomes', 'incorporates', 'incorrect', 'increased', 'incredible', 'incur', 'indeed', 'independent', 'india', 'indian', 'industrial', 'industry', 'ineffective', 'inequality', 'inexplicably', 'influence', 'info', 'information', 'informational', 'informative', 'infusion', 'ingenuity', 'ingredient', 'ingredients', 'initial', 'initially', 'initiated', 'initiations', 'injured', 'injures', 'inner', 'innocence', 'innocent', 'innovation', 'innovations', 'ins', 'insects', 'insecurity', 'inside', 'insight', 'insightful', 'insights', 'insist', 'insistent', 'insisting', 'inspector', 'inspire', 'inspired', 'installed', 'installment', 'instance', 'instantly', 'instead', 'instill', 'institution', 'instructions', 'insufficient', 'insular', 'insulting', 'integral', 'intellectual', 'intelligence', 'intelligent', 'intensely', 'intensity', 'intent', 'intentions', 'inter', 'interaction', 'interchangeable', 'interconnected', 'intercourse', 'interest', 'interested', 'interesting', 'interfering', 'interior', 'interlaced', 'intermittently', 'internal', 'international', 'internet', 'internship', 'interpret', 'interpretations', 'interpreting', 'interracial', 'intersect', 'interview', 'interviews', 'intimacy', 'intimate', 'into', 'intolerable', 'intolerant', 'intrigue', 'intrigued', 'intriguing', 'introduce', 'introduced', 'introducing', 'introduction', 'introspection', 'inventions', 'invest', 'invested', 'investigate', 'investigating', 'investment', 'involve', 'involved', 'involves', 'involving', 'io', 'ionians', 'iq', 'iran', 'iranians', 'iraq', 'irish', 'is', 'isbig', 'island', 'islands', 'isn', 'israel', 'issue', 'issues', 'it', 'italy', 'items', 'its', 'itself', 'ive', 'jack', 'jacobs', 'jacqueline', 'jail', 'james', 'jamie', 'japan', 'japanese', 'jarlord', 'jason', 'jaw', 'jay', 'jaycee', 'jealousy', 'jeannie', 'jeff', 'jefferson', 'jeffrey', 'jeni', 'jenny', 'jerry', 'jessica', 'jesus', 'jill', 'jillian', 'joan', 'job', 'jobs', 'jodi', 'joe', 'joel', 'john', 'joins', 'joke', 'jon', 'jonah', 'jonas', 'jonathan', 'jordan', 'josef', 'journal', 'journalist', 'journalistic', 'journey', 'joy', 'judged', 'judgmental', 'julia', 'julie', 'julius', 'jump', 'jumps', 'june', 'jungian', 'junk', 'just', 'justice', 'justified', 'kari', 'kate', 'katie', 'kay', 'kayden', 'kaye', 'keep', 'keeper', 'keeping', 'keeps', 'kendall', 'kenyon', 'kept', 'key', 'kezia', 'kicked', 'kicking', 'kid', 'kidnapped', 'kidnapping', 'kiera', 'killed', 'killer', 'kills', 'kilts', 'kincaid', 'kind', 'kinda', 'kindle', 'kindly', 'kindness', 'kindred', 'kinds', 'king', 'kingdom', 'kingsolver', 'kiss', 'kitchen', 'knew', 'knitter', 'knocked', 'knocks', 'know', 'knowing', 'knowledge', 'knowledgeable', 'knowles', 'known', 'knows', 'knox', 'kohl', 'kuhn', 'kylie', 'la', 'labour', 'lacey', 'lack', 'lacking', 'lackluster', 'lacks', 'ladies', 'lady', 'laid', 'lame', 'lands', 'lane', 'language', 'languages', 'large', 'largely', 'larger', 'larry', 'las', 'last', 'late', 'later', 'latest', 'latrivia', 'laugh', 'laughed', 'laughing', 'laughs', 'laughter', 'laveen', 'law', 'lay', 'layers', 'laying', 'layla', 'laymen', 'layout', 'lead', 'leader', 'leaders', 'leadership', 'leading', 'leads', 'leah', 'leahsigh', 'lean', 'learn', 'learned', 'learning', 'learns', 'least', 'leave', 'leaves', 'leaving', 'led', 'lee', 'left', 'leg', 'legacy', 'legends', 'lemonade', 'lemons', 'lending', 'lends', 'lengthen', 'leopard', 'les', 'less', 'lesson', 'lessons', 'let', 'lets', 'letters', 'letting', 'level', 'levels', 'leverage', 'library', 'libya', 'licking', 'lie', 'lieberman', 'lies', 'liesl', 'lieutenant', 'life', 'life2', 'lifestyle', 'lift', 'light', 'lighten', 'lighter', 'lighthearted', 'likable', 'like', 'likeable', 'liked', 'likely', 'likes', 'lilac', 'limited', 'limits', 'lincoln', 'lindsay', 'line', 'lines', 'lingering', 'linked', 'linkedin', 'links', 'lip', 'lips', 'lis', 'list', 'listed', 'listen', 'listening', 'listens', 'listing', 'lite', 'literally', 'literary', 'literature', 'littered', 'little', 'live', 'lived', 'lives', 'living', 'liz', 'll', 'lo', 'loaded', 'loathing', 'local', 'locating', 'location', 'locations', 'logan', 'lol', 'lolthis', 'london', 'lonely', 'lonesome', 'long', 'longer', 'longing', 'longish', 'look', 'looked', 'looking', 'looks', 'loose', 'loosen', 'loren', 'los', 'lose', 'loses', 'losing', 'losses', 'lossless', 'lost', 'lot', 'lots', 'loud', 'love', 'loved', 'lovelace', 'lovely', 'lover', 'lovers', 'loves', 'loving', 'low', 'loyalty', 'luck', 'luckily', 'lucky', 'luis', 'luke', 'lunch', 'lying', 'lynn', 'lyric', 'mac', 'machine', 'machines', 'mackie', 'mackinnon', 'macmillan', 'macy', 'mad', 'made', 'maggots', 'magi', 'magic', 'magical', 'magnitude', 'maid', 'main', 'mainly', 'maintain', 'major', 'make', 'maker', 'makers', 'makes', 'making', 'male', 'maleness', 'males', 'man', 'manage', 'managed', 'management', 'manager', 'manages', 'manipulation', 'manner', 'mansfield', 'many', 'map', 'maps', 'mara', 'marcel', 'marchant', 'marched', 'marco', 'marcus', 'marginal', 'margulies', 'marine', 'mark', 'marked', 'market', 'marketing', 'marriage', 'married', 'marrying', 'martin', 'martinsson', 'mary', 'masculinos', 'mason', 'masses', 'massive', 'master', 'mastered', 'masterful', 'match', 'mate', 'material', 'materialism', 'materialist', 'mathematicians', 'mathew', 'matt', 'matter', 'mature', 'maturing', 'maturity', 'maud', 'maxon', 'may', 'maybe', 'mayburn', 'mayhem', 'mc', 'mcafee', 'mcguire', 'mckendrick', 'mckenna', 'mckenzie', 'mcmurtry', 'me', 'mean', 'meaning', 'meaningful', 'means', 'meant', 'meantime', 'meanwhile', 'measurable', 'measure', 'meat', 'mechanic', 'mechanical', 'medea', 'media', 'median', 'medians', 'medical', 'medieval', 'mediterranean', 'meet', 'meeting', 'meets', 'megan', 'meir', 'melissa', 'melody', 'melted', 'member', 'members', 'membership', 'memoir', 'memorable', 'memories', 'memorize', 'memory', 'men', 'mental', 'mentally', 'mention', 'mentioned', 'mentions', 'merit', 'merkel', 'mesmerizes', 'mess', 'message', 'messages', 'met', 'metaphorical', 'methods', 'meticulous', 'metrics', 'micha', 'michael', 'mid', 'middle', 'midway', 'might', 'migrant', 'migrated', 'mild', 'mile', 'miles', 'military', 'militia', 'million', 'millsbrook', 'mind', 'mindedness', 'mindless', 'minds', 'mindset', 'mine', 'mingled', 'mini', 'miniscule', 'minister', 'ministry', 'minor', 'minute', 'minutes', 'mismatch', 'miss', 'missed', 'missing', 'mission', 'missionary', 'mistake', 'mistrust', 'misunderstood', 'mitchell', 'mix', 'mm', 'mo', 'modern', 'moist', 'molly', 'mom', 'moment', 'moments', 'momentum', 'monetize', 'money', 'monotheism', 'montana', 'months', 'monticello', 'monuments', 'mood', 'moon', 'mooney', 'moral', 'morales', 'morals', 'more', 'moreover', 'morgan', 'morning', 'morningauthor', 'morris', 'most', 'mostly', 'mother', 'mothers', 'motion', 'motivating', 'motivational', 'move', 'moved', 'movie', 'moving', 'mr', 'mrs', 'ms', 'much', 'mueller', 'muffins', 'multiple', 'mum', 'mundane', 'munich', 'munroreview', 'murder', 'murdered', 'murders', 'muse', 'music', 'must', 'muy', 'my', 'myke', 'mynx', 'myriad', 'myself', 'mysteries', 'mysterious', 'mystery', 'mystical', 'myth', 'mythology', 'myths', 'nadeem', 'nail', 'naive', 'naivet', 'naivety', 'naked', 'name', 'named', 'names', 'napoleon', 'narcissistic', 'narration', 'narrator', 'narrators', 'narrow', 'nash', 'nastiness', 'nate', 'nation', 'natural', 'naturally', 'nature', 'naught', 'naval', 'nazis', 'near', 'nearest', 'nearly', 'necessarily', 'necessary', 'neck', 'need', 'needed', 'needing', 'needs', 'negated', 'negative', 'negligible', 'neil', 'neill', 'neither', 'nell', 'nelson', 'nemesis', 'nesb', 'netgalley', 'network', 'never', 'nevertheless', 'new', 'newcomer', 'news', 'next', 'nice', 'nicely', 'nicholas', 'nick', 'nicky', 'nicola', 'niece', 'night', 'nights', 'nikon', 'nine', 'nineteenth', 'nit', 'no', 'noah', 'nobel', 'nobility', 'noble', 'nobody', 'nola', 'nomination', 'non', 'none', 'nonstop', 'nook', 'nor', 'norm', 'normal', 'normally', 'northern', 'norway', 'norwegian', 'nose', 'noses', 'not', 'notable', 'note', 'notes', 'nothing', 'noticeable', 'notices', 'notions', 'novel', 'novelette', 'novella', 'novels', 'now', 'nowhere', 'ntilde', 'nuclear', 'nuke', 'number', 'numbing', 'numerous', 'nurse', 'nurture', 'nutshell', 'oacute', 'obama', 'obeys', 'object', 'objectives', 'obliged', 'observation', 'observe', 'obsessed', 'obstacles', 'obvious', 'occasion', 'occasionally', 'occur', 'occurring', 'occurs', 'odd', 'odessa', 'of', 'off', 'offbeat', 'offended', 'offensive', 'offer', 'offered', 'offering', 'offers', 'office', 'officers', 'official', 'officialdumb', 'often', 'oh', 'ok', 'okay', 'old', 'older', 'olds', 'ole', 'olivia', 'omg', 'omnibus', 'on', 'once', 'one', 'ones', 'ongoing', 'onion', 'online', 'only', 'onset', 'onslaught', 'onto', 'open', 'opening', 'operator', 'opinion', 'opinions', 'oplatense', 'opportunity', 'opposing', 'opposites', 'ops', 'optimism', 'or', 'order', 'ordered', 'ordinary', 'organization', 'organize', 'organized', 'organizes', 'oriental', 'original', 'originality', 'originally', 'origins', 'orphan', 'os', 'osano', 'other', 'others', 'others_', 'otherwise', 'otter', 'our', 'out', 'outa', 'outburst', 'outcome', 'outdated', 'outdone', 'outing', 'outlook', 'outloud', 'outrageous', 'outs', 'outside', 'outstanding', 'over', 'overall', 'overcome', 'overindulgence', 'overlapping', 'overly', 'overtones', 'overview', 'overweight', 'owes', 'own', 'owner', 'owners', 'owning', 'owns', 'pace', 'paced', 'pacific', 'pacifism', 'pacifist', 'pacing', 'package', 'packaged', 'page', 'pages', 'pain', 'painting', 'pairing', 'pale', 'pam', 'panoramic', 'papers', 'paradigm', 'parallel', 'paranormal', 'parcel', 'parent', 'parentheses', 'parenting', 'parents', 'paris', 'park', 'parker', 'parks', 'parrish', 'part', 'participating', 'participation', 'particle', 'particles', 'particular', 'particularly', 'partner', 'parts', 'party', 'pass', 'passed', 'passing', 'passion', 'passions', 'past', 'pastor', 'paternity', 'path', 'pathetic', 'patho', 'patience', 'patient', 'patricia', 'patriotism', 'pattern', 'patterns', 'patterson', 'paul', 'pausing', 'pay', 'pea', 'peaked', 'peanut', 'peeled', 'peeling', 'peeve', 'peloponnesian', 'penchant', 'penned', 'pennies', 'pennsylvania', 'penny', 'pens', 'pentecost', 'people', 'peoples', 'pepper', 'perfect', 'perfectly', 'perform', 'perhaps', 'period', 'permanent', 'permit', 'permitted', 'perpetuates', 'perplexed', 'persephone', 'perseus', 'persevered', 'persia', 'persian', 'persians', 'persistent', 'person', 'personajes', 'personal', 'personalities', 'personality', 'personally', 'perspective', 'perspectives', 'persuade', 'persuasion', 'pesh', 'pet', 'pettersson', 'phifer', 'philosopher', 'philosophy', 'photocopied', 'photos', 'physical', 'physically', 'physicist', 'pick', 'picked', 'picking', 'picks', 'picoult', 'picture', 'pictures', 'piece', 'pieced', 'pieces', 'pig', 'piled', 'pins', 'pits', 'pivotal', 'pivoting', 'place', 'placed', 'places', 'plague', 'plain', 'plan', 'plane', 'planes', 'planet', 'planned', 'planning', 'plans', 'plant', 'plausible', 'play', 'played', 'player', 'playing', 'playlist', 'plays', 'pleasant', 'pleasantly', 'please', 'pleased', 'pleasure', 'plenty', 'plot', 'plotline', 'plots', 'plotting', 'ploy', 'plug', 'plus', 'poetry', 'poignant', 'point', 'pointers', 'pointless', 'points', 'poised', 'poison', 'police', 'policies', 'policy', 'polio', 'political', 'politically', 'politics', 'pomeranian', 'ponder', 'poor', 'poorly', 'pop', 'popular', 'population', 'porte', 'portion', 'portray', 'portrayed', 'portrays', 'position', 'positions', 'positive', 'possess', 'possibility', 'possible', 'possibly', 'post', 'posted', 'posting', 'posts', 'potato', 'potential', 'potrayal', 'potter', 'pov', 'powells', 'power', 'powerful', 'practice', 'practices', 'practicing', 'practitioners', 'praise', 'praised', 'pray', 'prayer', 'pre', 'preaching', 'precise', 'preconceived', 'predictable', 'predicted', 'prefer', 'pregnancy', 'pregnant', 'premise', 'preparation', 'prepared', 'prescriptions', 'present', 'presentation', 'presented', 'president', 'presidents', 'press', 'pressisbn', 'pressure', 'pretend', 'pretty', 'prevail', 'prevent', 'previous', 'previously', 'preying', 'price', 'priced', 'primary', 'prime', 'primer', 'princess', 'principles', 'print', 'printed', 'printing', 'private', 'privy', 'prize', 'proactive', 'probably', 'problem', 'problems', 'proceed', 'proceeds', 'process', 'processing', 'proclaimed', 'product', 'production', 'productivity', 'profanity', 'professional', 'profitable', 'program', 'progress', 'progressed', 'progresses', 'projects', 'prominant', 'promise', 'promised', 'proper', 'property', 'proponents', 'proposal', 'proposition', 'prose', 'prosecutor', 'prospect', 'prostitute', 'prostitution', 'protagonist', 'protagonists', 'protection', 'protectors', 'proust', 'prove', 'proved', 'proven', 'proves', 'provided', 'provides', 'provoking', 'psyche', 'psychopath', 'psychos', 'psychosis', 'public', 'published', 'publisher', 'publishers', 'publishing', 'pulitzer', 'pull', 'pulled', 'pulling', 'punch', 'punish', 'purchase', 'purchased', 'pure', 'purely', 'purity', 'purposes', 'pursuit', 'push', 'put', 'putin', 'puts', 'putting', 'puzzle', 'quaint', 'quaker', 'quality', 'quarters', 'queen', 'question', 'questioned', 'questions', 'quick', 'quicker', 'quickly', 'quiet', 'quietly', 'quills', 'quirky', 'quite', 'quotations', 'quote', 'quotes', 'quoting', 'race', 'rachel', 'racial', 'racing', 'racism', 'radiological', 'rain', 'raine', 'raising', 'ralph', 'rambling', 'ramblings', 'ran', 'ranch', 'rancher', 'ranches', 'range', 'ranging', 'rapist', 'rare', 'rarely', 'ratchet', 'ratchets', 'rate', 'rated', 'rather', 'rating', 'ratings', 'raw', 'raylen', 're', 'reach', 'reached', 'reacher', 'reaching', 'reaction', 'reactively', 'read', 'reader', 'readers', 'readership', 'reading', 'readings', 'reads', 'ready', 'real', 'realise', 'realistic', 'reality', 'realize', 'realized', 'realizing', 'really', 'reappear', 'reappearance', 'reasoable', 'reason', 'reasonable', 'reasoning', 'reasons', 'rebecca', 'rebecka', 'rebel', 'rebellion', 'rebellious', 'rebels', 'recall', 'reccomend', 'receive', 'received', 'receives', 'receiving', 'recent', 'recently', 'reception', 'recipe', 'recipes', 'recognize', 'recombining', 'recommend', 'recommended', 'recommending', 'reconnected', 'record', 'recorded', 'recover', 'red', 'redeeming', 'rediscover', 'reduce', 'reed', 'reference', 'references', 'referred', 'referring', 'reflects', 'reformation', 'refresh', 'refreshing', 'refuge', 'refund', 'refused', 'refuses', 'refusing', 'regard', 'regarding', 'regardless', 'regency', 'regime', 'regin', 'region', 'registered', 'reglon', 'regret', 'regular', 'rehab', 'rehabilitation', 'rehash', 'reincarnation', 'reinhardt', 'reinhart', 'relate', 'related', 'relationship', 'relationships', 'relative', 'relatively', 'relax', 'relaxing', 'relayed', 'release', 'released', 'releases', 'relevant', 'relic', 'relief', 'relieve', 'religions', 'religious', 'rely', 'remained', 'remains', 'remarkable', 'remarkably', 'remarks', 'remember', 'remembers', 'reminded', 'reminds', 'reminiscent', 'removing', 'render', 'rendering', 'renee', 'repeatedly', 'repertoire', 'repetition', 'repetitious', 'repetitive', 'replace', 'replacement', 'replied', 'reply', 'representante', 'repurcussions', 'reputation', 'request', 'require', 'required', 'reread', 'rescuing', 'research', 'reservation', 'resist', 'resolutions', 'resolve', 'resolved', 'resonates', 'resort', 'resource', 'resourceful', 'resources', 'respect', 'rest', 'restaurant', 'restaurants', 'restore', 'result', 'results', 'resurrection', 'retelling', 'retriever', 'return', 'returned', 'returning', 'reunion', 'reveal', 'revealed', 'revealing', 'reveals', 'revelation', 'revelations', 'reversion', 'review', 'reviewer', 'reviews', 'revisit', 'revolution', 'revolutions', 'revolving', 'rewarded', 'reword', 'reynard', 'rhyme', 'rich', 'richer', 'richie', 'richly', 'richness', 'ride', 'riding', 'right', 'rightfully', 'rigid', 'riiva', 'rise', 'rising', 'risk', 'rite', 'rithmatist', 'rival', 'rivers', 'road', 'robert', 'robie', 'robin', 'robotics', 'rock', 'rocked', 'rocky', 'role', 'roles', 'rollercoaster', 'rollercoster', 'roman', 'romance', 'romancein', 'romances', 'romantic', 'romanticize', 'room', 'root', 'rooting', 'roots', 'roth', 'rough', 'round', 'routine', 'routines', 'routing', 'rread', 'rubbed', 'ruffled', 'rugby', 'rules', 'ruminations', 'run', 'runner', 'running', 'runs', 'rural', 'rush', 'rushed', 'russia', 'russian', 'russians', 'rut', 'ruth', 'ruthless', 'ryan', 'saavy', 'sacrifice', 'sad', 'sadly', 'sadness', 'safe', 'safety', 'saga', 'said', 'salamis', 'sally', 'salsa', 'samantha', 'same', 'sameness', 'sample', 'san', 'sanction', 'sanders', 'sanderson', 'sandy', 'santini', 'sarantium_', 'sardis', 'satisfaction', 'savage', 'savage4', 'savannah', 'save', 'saving', 'saw', 'say', 'saying', 'says', 'scale', 'scandal', 'scandalous', 'scandinavian', 'scared', 'scarpetta', 'scars', 'scary', 'scenarios', 'scene', 'scenery', 'scenes', 'scholar', 'scholarly', 'scholars', 'scholastic', 'school', 'sci', 'science', 'scientific', 'scientist', 'scolded', 'scope', 'scorches', 'score', 'scotland', 'scott', 'scottish', 'scrambling', 'scratched', 'screaming', 'scriptures', 'se', 'sea', 'sean', 'searches', 'searching', 'season', 'seat', 'seattle', 'second', 'secret', 'secretary', 'secrets', 'section', 'sections', 'secure', 'security', 'sedate', 'seduce', 'seductive', 'see', 'seedy', 'seeing', 'seeking', 'seem', 'seemed', 'seemingly', 'seems', 'seen', 'sees', 'segment', 'seizes', 'selections', 'self', 'selfish', 'selfishness', 'sell', 'senate', 'senator', 'sending', 'sends', 'seneca', 'sensation', 'sense', 'sensible', 'sensitive', 'sensual', 'sensually', 'sent', 'sentence', 'sentences', 'seo', 'separate', 'separating', 'september', 'sequel', 'sequels', 'serenity', 'serial', 'serials', 'series', 'seriesbook', 'serious', 'seriously', 'servants', 'serve', 'served', 'service', 'services', 'serving', 'servitude', 'sessions', 'set', 'seth', 'sets', 'setting', 'settings', 'settle', 'seven', 'seventies', 'several', 'seward', 'sex', 'sexiest', 'sexiness', 'sexual', 'sexuality', 'sexy', 'shades', 'shadow', 'shallow', 'shape', 'shaped', 'shapeshifter', 'shaping', 'shara', 'share', 'shared', 'shares', 'sharing', 'shattering', 'shave', 'shaved', 'shay', 'she', 'sheets', 'shell', 'shelley', 'shelter', 'sheri', 'sherr', 'sherrilyn', 'shetland', 'shield', 'shift', 'shifted', 'shifter', 'shine', 'shining', 'shit', 'shock', 'shocking', 'shoot', 'shooting', 'short', 'shortage', 'shortcomings', 'shortly', 'shot', 'shots', 'should', 'shouldn', 'show', 'showcase', 'showcases', 'showed', 'shown', 'shows', 'showtime', 'shreve', 'shuttle', 'shy', 'sick', 'side', 'sided', 'sides', 'sienna', 'sierra', 'sign', 'significant', 'silent', 'similar', 'simmons', 'simo', 'simple', 'simplicity', 'simply', 'since', 'sincerely', 'sincerity', 'sinclair', 'sing', 'singer', 'single', 'sinks', 'sister', 'sisters', 'sit', 'site', 'sitnalta', 'sitting', 'situation', 'situations', 'six', 'sixth', 'sixties', 'size', 'sizzling', 'skeptics', 'sketchy', 'skills', 'skimmed', 'skin', 'skip', 'skips', 'skulls', 'sky', 'skye', 'skyler', 'slam', 'slang', 'slanted', 'slaves', 'sleazy', 'sleep', 'sleuth', 'slick', 'slickreads', 'slightly', 'slim', 'slogar', 'slow', 'slowly', 'slurs', 'small', 'smart', 'smarter', 'smattering', 'smile', 'smiles', 'smitten', 'smoldering', 'smooth', 'smorgasbord', 'sneaking', 'sniper', 'snippet', 'snow', 'so', 'sobbing', 'social', 'society', 'softening', 'softer', 'soiled', 'soldier', 'soldiers', 'sole', 'solely', 'solid', 'solomon', 'solution', 'solutions', 'solve', 'solved', 'solving', 'some', 'somehow', 'someone', 'something', 'sometime', 'sometimes', 'somewhat', 'son', 'song', 'soon', 'sooooo', 'sophie', 'sophisticated', 'sore', 'sororities', 'sorrow', 'sorry', 'sort', 'sought', 'soul', 'sound', 'sounded', 'sounds', 'source', 'soviet', 'space', 'spaceliner', 'span', 'spanked', 'spare', 'spared', 'sparked', 'sparks', 'sparrows', 'spartans', 'speak', 'speaking', 'speaks', 'special', 'specific', 'specifically', 'specifics', 'spectacular', 'spend', 'spending', 'spends', 'spent', 'spews', 'spices', 'spiked', 'spill', 'spin', 'spine', 'spins', 'spirit', 'spirits', 'spiritual', 'spirituality', 'split', 'spoiled', 'spoilers', 'spoken', 'sponsored', 'sponsorships', 'spontaneous', 'sports', 'spot', 'spotlight', 'spotted', 'spouse', 'spread', 'spreads', 'spring', 'sprinkled', 'spy', 'squadron', 'squalid', 'squeamish', 'squelch', 'st', 'stableboy', 'stacks', 'stage', 'stages', 'stale', 'stalker', 'stalking', 'stance', 'stand', 'standalone', 'standard', 'standing', 'stands', 'staple', 'star', 'stars', 'starsonly', 'start', 'started', 'starting', 'startling', 'starts', 'state', 'stated', 'statements', 'states', 'stating', 'statistics', 'status', 'statutes', 'stay', 'stays', 'steadfastly', 'steady', 'stealth', 'steam', 'steamy', 'steel', 'steele', 'steer', 'steinbeck', 'stem', 'step', 'stephanie', 'stepping', 'steps', 'stereotype', 'steve', 'steven', 'sticking', 'still', 'stimulated', 'stir', 'stole', 'stone', 'stones', 'stood', 'stop', 'stopping', 'stops', 'store', 'stores', 'storied', 'stories', 'stork', 'storm', 'story', 'storyline', 'storylines', 'storyteller', 'storytelling', 'straight', 'strained', 'strange', 'stranger', 'strategies', 'strategy', 'strategy4', 'streets', 'streetwise', 'strength', 'strengthen', 'stresses', 'strict', 'strike', 'stringent', 'strokes', 'strong', 'stronger', 'strongest', 'strongly', 'stroy', 'struck', 'structure', 'struggle', 'struggles', 'struggling', 'stubbornness', 'stuck', 'student', 'studious', 'study', 'stuff', 'stumbling', 'stupid', 'stupidity', 'sturdy', 'style', 'sub', 'subconscious', 'subject', 'subjects', 'submissive', 'subs', 'subtle', 'succeed', 'success', 'successful', 'such', 'suck', 'sucked', 'sudden', 'suddenly', 'suffer', 'suffering', 'suffrage', 'sugar', 'suggests', 'suitcase', 'suitor', 'sullivan', 'sultry', 'summary', 'summer', 'summeron', 'sums', 'sun', 'sunni', 'super', 'superb', 'superficial', 'superhero', 'superior', 'superstar', 'superstition', 'supplied', 'supplies', 'supply', 'support', 'supporting', 'supposed', 'supposedly', 'supremely', 'suprised', 'sure', 'surpassed', 'surplus', 'surprise', 'surprised', 'surprises', 'surprising', 'surprisingly', 'survival', 'survive', 'survived', 'surviving', 'survivors', 'suspect', 'suspense', 'suspenseful', 'suspicions', 'sustain', 'sustainable', 'swank', 'swati', 'sweeps', 'sweet', 'sweetest', 'swept', 'swift', 'swing', 'swinging', 'swiped', 'switch', 'swoon', 'swooning', 'sympathy', 'syndicates', 'synopsis', 'syria', 'system', 'tabby', 'tablet', 'tabloid', 'tactic', 'tacy', 'tainted', 'take', 'takeaway', 'taken', 'takes', 'taking', 'tale', 'talented', 'talesquick', 'talk', 'talked', 'talking', 'talks', 'tamed', 'tangible', 'tanya', 'taos', 'tapestry', 'targeted', 'targets', 'tarver', 'taste', 'tasty', 'tattooed', 'taught', 'taylor', 'taz', 'teach', 'teacher', 'team', 'tears', 'tease', 'teasing', 'tech', 'technical', 'technically', 'techniques', 'technological', 'technologies', 'technology', 'teen', 'teenage', 'teenager', 'teenagers', 'teens', 'telepathically', 'tell', 'teller', 'telling', 'tells', 'tempo', 'temporary', 'tempted', 'ten', 'tend', 'tenderness', 'tense', 'tenser', 'tension', 'tensions', 'term', 'terminologies', 'terms', 'terrible', 'terrific', 'terrorist', 'test', 'tested', 'testimony', 'text', 'tfios', 'th', 'thai', 'thailand', 'than', 'thank', 'thanks', 'that', 'thats', 'the', 'thea', 'theatre', 'thed', 'their', 'them', 'theme', 'themselves', 'then', 'theoretical', 'theory', 'therapy', 'there', 'thereby', 'therecipes', 'therefore', 'these', 'thetonto', 'they', 'thick', 'thickens', 'thin', 'thing', 'things', 'think', 'thinking', 'thinkon', 'thinks', 'third', 'thirsting', 'thirty', 'this', 'thomas', 'thong', 'thorn', 'thoroughly', 'those', 'though', 'thought', 'thoughtful', 'thoughts', 'thousands', 'threads', 'threats', 'three', 'threw', 'thriller', 'thrillers', 'through', 'throughout', 'throw', 'thrown', 'throws', 'thru', 'thus', 'thwart', 'tianna', 'tick', 'tickle', 'tie', 'tied', 'tiedto', 'ties', 'tiffany', 'tiger', 'till', 'tim', 'time', 'timers', 'times', 'timid', 'tip', 'tips', 'tir', 'tired', 'tissue', 'title', 'titles', 'to', 'tobias', 'today', 'toddler', 'toes', 'together', 'told', 'tolerance', 'toll', 'tom', 'tomb', 'tome', 'ton', 'tone', 'tons', 'too', 'took', 'tool', 'tools', 'top', 'topic', 'topics', 'tor', 'tormentors', 'torn', 'torture', 'total', 'totally', 'touch', 'touched', 'touches', 'tough', 'tournament', 'toward', 'towards', 'town', 'trace', 'track', 'tracking', 'tracks', 'trade', 'tradecraft', 'tradition', 'traditional', 'traffic', 'tragic', 'trail', 'train', 'training', 'transfers', 'transform', 'transition', 'translated', 'translation', 'translator', 'transported', 'trapped', 'travel', 'traveling', 'treasure', 'treat', 'treaty', 'trees', 'tremendous', 'trenches', 'trends', 'trevor', 'trials', 'triangle', 'tricky', 'tried', 'tries', 'trilogy', 'triple', 'troop', 'trope', 'tropes', 'trouble', 'troubles', 'true', 'truly', 'trust', 'trusted', 'trusting', 'trusts', 'truth', 'try', 'trying', 'tt', 'tucker', 'tug', 'tunnel', 'turn', 'turned', 'turner', 'turners', 'turning', 'turns', 'tv', 'twice', 'twilight', 'twin', 'twist', 'twisting', 'twists', 'twitter', 'two', 'ty', 'tyler', 'type', 'types', 'typical', 'typos', 'ugly', 'ukraine', 'ukrainian', 'ultimate', 'ultimately', 'ultra', 'ulyanov', 'umpteen', 'un', 'unappealing', 'unbearably', 'unbelievable', 'uncanny', 'unchanged', 'uncle', 'unconcernedly', 'uncool', 'uncover', 'under', 'underhanded', 'underscore', 'understand', 'understandable', 'understanding', 'understood', 'underworlds', 'undetermined', 'undue', 'unemotional', 'uneven', 'unexpected', 'unexpectedly', 'unfolding', 'unfolds', 'unfortunately', 'unifying', 'uninteresting', 'union', 'unique', 'united', 'unites', 'universally', 'universe', 'unless', 'unlike', 'unlikeable', 'unlikely', 'unlimited', 'unmolested', 'unnecessary', 'unparalleled', 'unpredictable', 'unrealistic', 'unreasonable', 'unrelated', 'unreliable', 'unrolled', 'unsophisticated', 'until', 'unusual', 'unwillingly', 'up', 'upbringing', 'upcoming', 'updated', 'upgrade', 'upheaval', 'upon', 'upped', 'upper', 'uprising', 'ups', 'upset', 'upside', 'urban', 'us', 'use', 'used', 'useful', 'using', 'usual', 'usually', 'utilize', 'vagina', 'vague', 'value', 'vampire', 'vampires', 'vandalen', 'vanilla', 'varied', 'variety', 'various', 'variously', 've', 'vegas', 'vegetarian', 'vehicles', 'veil', 'velvet', 'vendettas', 'vendors', 'vengeance', 'verify', 'vernacular', 'versa', 'versed', 'verses', 'version', 'versions', 'very', 'via', 'vibrational', 'vice', 'victoria', 'victory', 'view', 'viewpoint', 'views', 'vignettes', 'village', 'villains', 'villian', 'vincenzo', 'violence', 'violent', 'violently', 'virtually', 'vision', 'visit', 'visitors', 'visits', 'vitamin', 'vivid', 'voice', 'volume', 'volumetrics', 'voting', 'vs', 'vulnerabilities', 'vulnerability', 'vulnerable', 'vulnerablity', 'wagon', 'wait', 'waited', 'waiting', 'wake', 'wakes', 'walk', 'walker', 'walking', 'walks', 'wall', 'walton', 'want', 'wanted', 'wanting', 'wants', 'war', 'warehouse', 'warfare', 'warhead', 'warheads', 'warm', 'warmed', 'warming', 'warned', 'warning', 'warrant', 'warriors', 'wars', 'warsaw', 'warts', 'was', 'washington', 'wasn', 'waste', 'wasted', 'watch', 'watched', 'watching', 'water', 'way', 'wayne', 'ways', 'we', 'weak', 'weakest', 'weakness', 'weaknesses', 'weapons', 'wears', 'weather', 'website', 'websites', 'wedded', 'wedding', 'week', 'weekend', 'weeks', 'weight', 'weird', 'welcomed', 'well', 'wells', 'went', 'were', 'werewolves', 'west', 'western', 'what', 'whatever', 'whats', 'wheel', 'when', 'where', 'whereas', 'wherever', 'whether', 'whew', 'which', 'while', 'whilst', 'whirl', 'whirlwind', 'white', 'who', 'whoever', 'whole', 'wholeheartedly', 'wholesome', 'whom', 'whose', 'why', 'wich', 'wide', 'widow', 'widowed', 'wiehl', 'wife', 'wikipedia', 'wild', 'wildly', 'will', 'william', 'williams', 'willing', 'wills', 'wilson', 'wilsonpublisher', 'wimps', 'win', 'wind', 'winded', 'wine', 'wink', 'winner', 'winning', 'winspear', 'winter', 'wisdom', 'wise', 'wisely', 'wish', 'wished', 'wishes', 'wishing', 'wit', 'witches', 'with', 'within', 'without', 'witnessed', 'witty', 'wizard', 'wobbly', 'woke', 'woken', 'wolf', 'woman', 'women', 'womenizer', 'won', 'wonder', 'wonderful', 'wonderfully', 'wondering', 'wonders', 'wood', 'word', 'words', 'wore', 'work', 'worked', 'workers', 'working', 'workings', 'works', 'world', 'worlds', 'worms', 'worried', 'worry', 'worse', 'worth', 'worthwhile', 'worthy', 'would', 'wouldn', 'wow', 'wrapped', 'wreck', 'write', 'writer', 'writers', 'writes', 'writing', 'writings', 'writng', 'written', 'wrong', 'wrote', 'wry', 'wwi', 'wwii', 'xan', 'xcellent', 'xerxes', 'xxx', 'ya', 'yale', 'yarn', 'year', 'years', 'yes', 'yet', 'yoga', 'york', 'you', 'young', 'your', 'yours', 'yourself', 'youth', 'yr', 'yuki', 'yvette', 'zahra', 'zelos', 'zeus', 'zombie', 'zombies', 'zone']\n"
     ]
    }
   ],
   "source": [
    "from sklearn.feature_extraction.text import CountVectorizer\n",
    "\n",
    "vectorizer = CountVectorizer()\n",
    "train_x_vectors = vectorizer.fit_transform(train_x)\n",
    "\n",
    "test_x_vectors = vectorizer.transform(test_x)\n",
    "\n",
    "print(train_x[0])\n",
    "#print(train_x_vectors[0].toarray())\n",
    "print(train_x_vectors[0])\n",
    "print(vectorizer.get_feature_names())\n",
    "\n",
    "\n",
    "#X_train_counts = count_vect.fit_transform(training)\n",
    "#X_train_counts.shape\n"
   ]
  },
  {
   "cell_type": "markdown",
   "metadata": {},
   "source": [
    "### Classification - Clasifiers from Sklearn"
   ]
  },
  {
   "cell_type": "markdown",
   "metadata": {},
   "source": [
    "#### 1. Linear SVM"
   ]
  },
  {
   "cell_type": "code",
   "execution_count": 16,
   "metadata": {},
   "outputs": [
    {
     "ename": "AttributeError",
     "evalue": "type object 'SVC' has no attribute 'SVC'",
     "output_type": "error",
     "traceback": [
      "\u001b[1;31m---------------------------------------------------------------------------\u001b[0m",
      "\u001b[1;31mAttributeError\u001b[0m                            Traceback (most recent call last)",
      "\u001b[1;32m<ipython-input-16-458bbd20e45a>\u001b[0m in \u001b[0;36m<module>\u001b[1;34m\u001b[0m\n\u001b[0;32m      1\u001b[0m \u001b[1;32mfrom\u001b[0m \u001b[0msklearn\u001b[0m\u001b[1;33m.\u001b[0m\u001b[0msvm\u001b[0m \u001b[1;32mimport\u001b[0m \u001b[0mSVC\u001b[0m\u001b[1;33m\u001b[0m\u001b[1;33m\u001b[0m\u001b[0m\n\u001b[0;32m      2\u001b[0m \u001b[1;33m\u001b[0m\u001b[0m\n\u001b[1;32m----> 3\u001b[1;33m \u001b[0mclf_svm\u001b[0m \u001b[1;33m=\u001b[0m \u001b[0msvm\u001b[0m\u001b[1;33m.\u001b[0m\u001b[0mSVC\u001b[0m\u001b[1;33m(\u001b[0m\u001b[0mkernel\u001b[0m \u001b[1;33m=\u001b[0m \u001b[1;34m'linear'\u001b[0m\u001b[1;33m)\u001b[0m\u001b[1;33m\u001b[0m\u001b[1;33m\u001b[0m\u001b[0m\n\u001b[0m\u001b[0;32m      4\u001b[0m \u001b[1;33m\u001b[0m\u001b[0m\n\u001b[0;32m      5\u001b[0m \u001b[0mclf_svm\u001b[0m\u001b[1;33m.\u001b[0m\u001b[0mfit\u001b[0m\u001b[1;33m(\u001b[0m\u001b[0mtrain_x_vectors\u001b[0m\u001b[1;33m,\u001b[0m \u001b[0mtrain_y\u001b[0m\u001b[1;33m)\u001b[0m\u001b[1;33m\u001b[0m\u001b[1;33m\u001b[0m\u001b[0m\n",
      "\u001b[1;31mAttributeError\u001b[0m: type object 'SVC' has no attribute 'SVC'"
     ]
    }
   ],
   "source": [
    "from sklearn.svm import SVC\n",
    "\n",
    "clf_svm = svm.SVC(kernel = 'linear')\n",
    "\n",
    "clf_svm.fit(train_x_vectors, train_y)\n",
    "\n",
    "print(test_x[0])\n",
    "print(test_x_vectors[0].toarray())\n",
    "\n",
    "clf_svm.predict(test_x_vectors[0])"
   ]
  },
  {
   "cell_type": "markdown",
   "metadata": {},
   "source": [
    "#### 2. Decision Tree"
   ]
  },
  {
   "cell_type": "code",
   "execution_count": 11,
   "metadata": {},
   "outputs": [
    {
     "name": "stdout",
     "output_type": "stream",
     "text": [
      "Vivid characters and descriptions. The author has created a tale that grabs your attention and I couldn't put it down.\n",
      "[[0 0 0 ... 0 0 0]]\n"
     ]
    },
    {
     "data": {
      "text/plain": [
       "array(['Positive'], dtype='<U8')"
      ]
     },
     "execution_count": 11,
     "metadata": {},
     "output_type": "execute_result"
    }
   ],
   "source": [
    "from sklearn.tree import DecisionTreeClassifier\n",
    "\n",
    "clf_dec = DecisionTreeClassifier(random_state=0)\n",
    "\n",
    "clf_dec.fit(train_x_vectors, train_y)\n",
    "\n",
    "print(test_x[0])\n",
    "print(test_x_vectors[0].toarray())\n",
    "\n",
    "clf_dec.predict(test_x_vectors[0])"
   ]
  },
  {
   "cell_type": "markdown",
   "metadata": {},
   "source": [
    "#### 3. Naive Bayes"
   ]
  },
  {
   "cell_type": "code",
   "execution_count": 12,
   "metadata": {},
   "outputs": [
    {
     "ename": "NameError",
     "evalue": "name 'GaussianNB' is not defined",
     "output_type": "error",
     "traceback": [
      "\u001b[1;31m---------------------------------------------------------------------------\u001b[0m",
      "\u001b[1;31mNameError\u001b[0m                                 Traceback (most recent call last)",
      "\u001b[1;32m<ipython-input-12-a180a791a56c>\u001b[0m in \u001b[0;36m<module>\u001b[1;34m\u001b[0m\n\u001b[0;32m      1\u001b[0m \u001b[1;32mfrom\u001b[0m \u001b[0msklearn\u001b[0m\u001b[1;33m.\u001b[0m\u001b[0mnaive_bayes\u001b[0m \u001b[1;32mimport\u001b[0m \u001b[0mGaussianNB\u001b[0m \u001b[1;32mas\u001b[0m \u001b[0mgnb\u001b[0m\u001b[1;33m\u001b[0m\u001b[1;33m\u001b[0m\u001b[0m\n\u001b[0;32m      2\u001b[0m \u001b[1;33m\u001b[0m\u001b[0m\n\u001b[1;32m----> 3\u001b[1;33m \u001b[0mclf_gnb\u001b[0m \u001b[1;33m=\u001b[0m \u001b[0mGaussianNB\u001b[0m\u001b[1;33m(\u001b[0m\u001b[1;33m)\u001b[0m\u001b[1;33m\u001b[0m\u001b[1;33m\u001b[0m\u001b[0m\n\u001b[0m\u001b[0;32m      4\u001b[0m \u001b[1;33m\u001b[0m\u001b[0m\n\u001b[0;32m      5\u001b[0m \u001b[0mclf_gnb\u001b[0m\u001b[1;33m.\u001b[0m\u001b[0mfit\u001b[0m\u001b[1;33m(\u001b[0m\u001b[0mtrain_x_vectors\u001b[0m\u001b[1;33m.\u001b[0m\u001b[0mtoarray\u001b[0m\u001b[1;33m(\u001b[0m\u001b[1;33m)\u001b[0m\u001b[1;33m,\u001b[0m \u001b[0mtrain_y\u001b[0m\u001b[1;33m)\u001b[0m\u001b[1;33m\u001b[0m\u001b[1;33m\u001b[0m\u001b[0m\n",
      "\u001b[1;31mNameError\u001b[0m: name 'GaussianNB' is not defined"
     ]
    }
   ],
   "source": [
    "from sklearn.naive_bayes import GaussianNB as gnb\n",
    "\n",
    "clf_gnb = GaussianNB()\n",
    "\n",
    "clf_gnb.fit(train_x_vectors.toarray(), train_y)\n",
    "\n",
    "print(test_x[0])\n",
    "print(test_x_vectors[0].toarray())\n",
    "\n",
    "clf_gnb.predict(test_x_vectors[0].toarray())"
   ]
  },
  {
   "cell_type": "markdown",
   "metadata": {},
   "source": [
    "#### 4. Logistic Regression"
   ]
  },
  {
   "cell_type": "code",
   "execution_count": 13,
   "metadata": {},
   "outputs": [
    {
     "ename": "NameError",
     "evalue": "name 'LogisticRegression' is not defined",
     "output_type": "error",
     "traceback": [
      "\u001b[1;31m---------------------------------------------------------------------------\u001b[0m",
      "\u001b[1;31mNameError\u001b[0m                                 Traceback (most recent call last)",
      "\u001b[1;32m<ipython-input-13-cf80b6a79fab>\u001b[0m in \u001b[0;36m<module>\u001b[1;34m\u001b[0m\n\u001b[0;32m      1\u001b[0m \u001b[1;32mfrom\u001b[0m \u001b[0msklearn\u001b[0m\u001b[1;33m.\u001b[0m\u001b[0mlinear_model\u001b[0m \u001b[1;32mimport\u001b[0m \u001b[0mLogisticRegression\u001b[0m \u001b[1;32mas\u001b[0m \u001b[0mlog\u001b[0m\u001b[1;33m\u001b[0m\u001b[1;33m\u001b[0m\u001b[0m\n\u001b[0;32m      2\u001b[0m \u001b[1;33m\u001b[0m\u001b[0m\n\u001b[1;32m----> 3\u001b[1;33m \u001b[0mclf_log\u001b[0m\u001b[1;33m=\u001b[0m \u001b[0mLogisticRegression\u001b[0m\u001b[1;33m(\u001b[0m\u001b[1;33m)\u001b[0m\u001b[1;33m\u001b[0m\u001b[1;33m\u001b[0m\u001b[0m\n\u001b[0m\u001b[0;32m      4\u001b[0m \u001b[1;33m\u001b[0m\u001b[0m\n\u001b[0;32m      5\u001b[0m \u001b[0mclf_log\u001b[0m\u001b[1;33m.\u001b[0m\u001b[0mfit\u001b[0m\u001b[1;33m(\u001b[0m\u001b[0mtrain_x_vectors\u001b[0m\u001b[1;33m.\u001b[0m\u001b[0mtoarray\u001b[0m\u001b[1;33m(\u001b[0m\u001b[1;33m)\u001b[0m\u001b[1;33m,\u001b[0m \u001b[0mtrain_y\u001b[0m\u001b[1;33m)\u001b[0m\u001b[1;33m\u001b[0m\u001b[1;33m\u001b[0m\u001b[0m\n",
      "\u001b[1;31mNameError\u001b[0m: name 'LogisticRegression' is not defined"
     ]
    }
   ],
   "source": [
    "from sklearn.linear_model import LogisticRegression as log\n",
    "\n",
    "clf_log= LogisticRegression()\n",
    "\n",
    "clf_log.fit(train_x_vectors.toarray(), train_y)\n",
    "\n",
    "print(test_x[0])\n",
    "print(test_x_vectors[0].toarray())\n",
    "\n",
    "clf_log.predict(test_x_vectors[0].toarray())"
   ]
  },
  {
   "cell_type": "markdown",
   "metadata": {},
   "source": [
    "### Evaluation of all models "
   ]
  },
  {
   "cell_type": "code",
   "execution_count": 14,
   "metadata": {},
   "outputs": [
    {
     "ename": "NameError",
     "evalue": "name 'clf_svm' is not defined",
     "output_type": "error",
     "traceback": [
      "\u001b[1;31m---------------------------------------------------------------------------\u001b[0m",
      "\u001b[1;31mNameError\u001b[0m                                 Traceback (most recent call last)",
      "\u001b[1;32m<ipython-input-14-4b0455fd3db2>\u001b[0m in \u001b[0;36m<module>\u001b[1;34m\u001b[0m\n\u001b[0;32m      1\u001b[0m \u001b[1;31m# Mean Accuracy of all classifiers\u001b[0m\u001b[1;33m\u001b[0m\u001b[1;33m\u001b[0m\u001b[1;33m\u001b[0m\u001b[0m\n\u001b[0;32m      2\u001b[0m \u001b[1;33m\u001b[0m\u001b[0m\n\u001b[1;32m----> 3\u001b[1;33m \u001b[0mprint\u001b[0m\u001b[1;33m(\u001b[0m\u001b[0mclf_svm\u001b[0m\u001b[1;33m.\u001b[0m\u001b[0mscore\u001b[0m\u001b[1;33m(\u001b[0m\u001b[0mtest_x_vectors\u001b[0m\u001b[1;33m,\u001b[0m \u001b[0mtest_y\u001b[0m\u001b[1;33m)\u001b[0m\u001b[1;33m)\u001b[0m\u001b[1;33m\u001b[0m\u001b[1;33m\u001b[0m\u001b[0m\n\u001b[0m\u001b[0;32m      4\u001b[0m \u001b[1;33m\u001b[0m\u001b[0m\n\u001b[0;32m      5\u001b[0m \u001b[0mprint\u001b[0m\u001b[1;33m(\u001b[0m\u001b[0mclf_dec\u001b[0m\u001b[1;33m.\u001b[0m\u001b[0mscore\u001b[0m\u001b[1;33m(\u001b[0m\u001b[0mtest_x_vectors\u001b[0m\u001b[1;33m,\u001b[0m \u001b[0mtest_y\u001b[0m\u001b[1;33m)\u001b[0m\u001b[1;33m)\u001b[0m\u001b[1;33m\u001b[0m\u001b[1;33m\u001b[0m\u001b[0m\n",
      "\u001b[1;31mNameError\u001b[0m: name 'clf_svm' is not defined"
     ]
    }
   ],
   "source": [
    "# Mean Accuracy of all classifiers\n",
    "\n",
    "print(clf_svm.score(test_x_vectors, test_y))\n",
    "\n",
    "print(clf_dec.score(test_x_vectors, test_y))\n",
    "\n",
    "print(clf_gnb.score(test_x_vectors.toarray(), test_y))\n",
    "\n",
    "print(clf_log.score(test_x_vectors, test_y))\n"
   ]
  },
  {
   "cell_type": "code",
   "execution_count": 15,
   "metadata": {},
   "outputs": [
    {
     "ename": "NameError",
     "evalue": "name 'clf_svm' is not defined",
     "output_type": "error",
     "traceback": [
      "\u001b[1;31m---------------------------------------------------------------------------\u001b[0m",
      "\u001b[1;31mNameError\u001b[0m                                 Traceback (most recent call last)",
      "\u001b[1;32m<ipython-input-15-8992fa756472>\u001b[0m in \u001b[0;36m<module>\u001b[1;34m\u001b[0m\n\u001b[0;32m      3\u001b[0m \u001b[1;32mfrom\u001b[0m \u001b[0msklearn\u001b[0m\u001b[1;33m.\u001b[0m\u001b[0mmetrics\u001b[0m \u001b[1;32mimport\u001b[0m \u001b[0mf1_score\u001b[0m\u001b[1;33m\u001b[0m\u001b[1;33m\u001b[0m\u001b[0m\n\u001b[0;32m      4\u001b[0m \u001b[1;33m\u001b[0m\u001b[0m\n\u001b[1;32m----> 5\u001b[1;33m \u001b[0mprint\u001b[0m\u001b[1;33m(\u001b[0m\u001b[0mf1_score\u001b[0m\u001b[1;33m(\u001b[0m\u001b[0mtest_y\u001b[0m\u001b[1;33m,\u001b[0m \u001b[0mclf_svm\u001b[0m\u001b[1;33m.\u001b[0m\u001b[0mpredict\u001b[0m\u001b[1;33m(\u001b[0m\u001b[0mtest_x_vectors\u001b[0m\u001b[1;33m)\u001b[0m\u001b[1;33m,\u001b[0m \u001b[0maverage\u001b[0m \u001b[1;33m=\u001b[0m \u001b[1;32mNone\u001b[0m\u001b[1;33m,\u001b[0m \u001b[0mlabels\u001b[0m \u001b[1;33m=\u001b[0m \u001b[1;33m[\u001b[0m\u001b[0mSentiment\u001b[0m\u001b[1;33m.\u001b[0m\u001b[0mPositive\u001b[0m\u001b[1;33m,\u001b[0m \u001b[0mSentiment\u001b[0m\u001b[1;33m.\u001b[0m\u001b[0mNuetral\u001b[0m\u001b[1;33m,\u001b[0m \u001b[0mSentiment\u001b[0m\u001b[1;33m.\u001b[0m\u001b[0mNegative\u001b[0m\u001b[1;33m]\u001b[0m\u001b[1;33m)\u001b[0m\u001b[1;33m)\u001b[0m\u001b[1;33m\u001b[0m\u001b[1;33m\u001b[0m\u001b[0m\n\u001b[0m\u001b[0;32m      6\u001b[0m \u001b[1;33m\u001b[0m\u001b[0m\n\u001b[0;32m      7\u001b[0m \u001b[0mprint\u001b[0m\u001b[1;33m(\u001b[0m\u001b[0mf1_score\u001b[0m\u001b[1;33m(\u001b[0m\u001b[0mtest_y\u001b[0m\u001b[1;33m,\u001b[0m \u001b[0mclf_dec\u001b[0m\u001b[1;33m.\u001b[0m\u001b[0mpredict\u001b[0m\u001b[1;33m(\u001b[0m\u001b[0mtest_x_vectors\u001b[0m\u001b[1;33m)\u001b[0m\u001b[1;33m,\u001b[0m \u001b[0maverage\u001b[0m \u001b[1;33m=\u001b[0m \u001b[1;32mNone\u001b[0m\u001b[1;33m,\u001b[0m \u001b[0mlabels\u001b[0m \u001b[1;33m=\u001b[0m \u001b[1;33m[\u001b[0m\u001b[0mSentiment\u001b[0m\u001b[1;33m.\u001b[0m\u001b[0mPositive\u001b[0m\u001b[1;33m,\u001b[0m \u001b[0mSentiment\u001b[0m\u001b[1;33m.\u001b[0m\u001b[0mNuetral\u001b[0m\u001b[1;33m,\u001b[0m \u001b[0mSentiment\u001b[0m\u001b[1;33m.\u001b[0m\u001b[0mNegative\u001b[0m\u001b[1;33m]\u001b[0m\u001b[1;33m)\u001b[0m\u001b[1;33m)\u001b[0m\u001b[1;33m\u001b[0m\u001b[1;33m\u001b[0m\u001b[0m\n",
      "\u001b[1;31mNameError\u001b[0m: name 'clf_svm' is not defined"
     ]
    }
   ],
   "source": [
    "# F1 Scores\n",
    "\n",
    "from sklearn.metrics import f1_score\n",
    "\n",
    "print(f1_score(test_y, clf_svm.predict(test_x_vectors), average = None, labels = [Sentiment.Positive, Sentiment.Nuetral, Sentiment.Negative]))\n",
    "\n",
    "print(f1_score(test_y, clf_dec.predict(test_x_vectors), average = None, labels = [Sentiment.Positive, Sentiment.Nuetral, Sentiment.Negative]))\n",
    "\n",
    "print(f1_score(test_y, clf_log.predict(test_x_vectors), average = None, labels = [Sentiment.Positive, Sentiment.Nuetral, Sentiment.Negative]))\n",
    "\n",
    "print(f1_score(test_y, clf_gnb.predict(test_x_vectors.toarray()), average = None, labels = [Sentiment.Positive, Sentiment.Nuetral, Sentiment.Negative]))\n",
    "\n"
   ]
  },
  {
   "cell_type": "code",
   "execution_count": null,
   "metadata": {},
   "outputs": [],
   "source": []
  }
 ],
 "metadata": {
  "kernelspec": {
   "display_name": "Python 3",
   "language": "python",
   "name": "python3"
  },
  "language_info": {
   "codemirror_mode": {
    "name": "ipython",
    "version": 3
   },
   "file_extension": ".py",
   "mimetype": "text/x-python",
   "name": "python",
   "nbconvert_exporter": "python",
   "pygments_lexer": "ipython3",
   "version": "3.7.7"
  }
 },
 "nbformat": 4,
 "nbformat_minor": 4
}
